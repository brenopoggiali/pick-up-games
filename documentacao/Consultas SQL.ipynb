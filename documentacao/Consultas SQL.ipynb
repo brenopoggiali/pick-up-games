{
 "cells": [
  {
   "cell_type": "markdown",
   "metadata": {},
   "source": [
    "# Consultas em SQL\n",
    "\n",
    "Esse notebook abarca parte do trabalho prático que solicita a criação de 10 consutlas SQL, contendo descrição textual, comando SQL e resultado.\n",
    "\n",
    "Tais consultas devem atender aos requisitos mínimos:\n",
    "* 2 operações de seleção e projeção\n",
    "* 3 junção de duas relações\n",
    "* 3 junção de três ou mais relações\n",
    "* 2 funções de agregação sobre o resultado da junção de pelo menos duas relações\n",
    "\n",
    "Ademais, o presente Notebook incluirá o item iii das Características avançadas, que especifica:\n",
    "* iii. mais três consultas do tipo relatório"
   ]
  },
  {
   "cell_type": "markdown",
   "metadata": {},
   "source": [
    "#### Importação das bibliotecas:"
   ]
  },
  {
   "cell_type": "code",
   "execution_count": 1,
   "metadata": {},
   "outputs": [],
   "source": [
    "import io\n",
    "import sqlite3\n",
    "import pandas as pd"
   ]
  },
  {
   "cell_type": "markdown",
   "metadata": {},
   "source": [
    "#### Conexão com o banco de dados:"
   ]
  },
  {
   "cell_type": "code",
   "execution_count": 2,
   "metadata": {},
   "outputs": [],
   "source": [
    "conn = sqlite3.connect('tp2.db')\n",
    "cursor = conn.cursor()"
   ]
  },
  {
   "cell_type": "markdown",
   "metadata": {},
   "source": [
    "#### Carga dos dados:\n",
    "Código comentado pois deve ser executado uma única vez, e já o foi."
   ]
  },
  {
   "cell_type": "code",
   "execution_count": 3,
   "metadata": {},
   "outputs": [
    {
     "data": {
      "text/plain": [
       "<sqlite3.Cursor at 0x7ff3534dece0>"
      ]
     },
     "execution_count": 3,
     "metadata": {},
     "output_type": "execute_result"
    }
   ],
   "source": [
    "#f = io.open('criacao_tabelas.sql', 'r')\n",
    "#sql = f.read()\n",
    "#cursor.executescript(sql)\n",
    "\n",
    "#f = io.open('popula_tabelas.sql', 'r')\n",
    "#sql = f.read()\n",
    "#cursor.executescript(sql)"
   ]
  },
  {
   "cell_type": "markdown",
   "metadata": {},
   "source": [
    "## 10 consultas SQL"
   ]
  },
  {
   "cell_type": "markdown",
   "metadata": {},
   "source": [
    "#### Consulta 1\n",
    "Obtém grupo de pelada, data e hora em que uma partida ocorreu."
   ]
  },
  {
   "cell_type": "code",
   "execution_count": 4,
   "metadata": {},
   "outputs": [
    {
     "data": {
      "text/html": [
       "<div>\n",
       "<style scoped>\n",
       "    .dataframe tbody tr th:only-of-type {\n",
       "        vertical-align: middle;\n",
       "    }\n",
       "\n",
       "    .dataframe tbody tr th {\n",
       "        vertical-align: top;\n",
       "    }\n",
       "\n",
       "    .dataframe thead th {\n",
       "        text-align: right;\n",
       "    }\n",
       "</style>\n",
       "<table border=\"1\" class=\"dataframe\">\n",
       "  <thead>\n",
       "    <tr style=\"text-align: right;\">\n",
       "      <th></th>\n",
       "      <th>nome</th>\n",
       "      <th>lugar</th>\n",
       "      <th>preco</th>\n",
       "      <th>inicio</th>\n",
       "      <th>fim</th>\n",
       "    </tr>\n",
       "  </thead>\n",
       "  <tbody>\n",
       "    <tr>\n",
       "      <th>0</th>\n",
       "      <td>Cerveja</td>\n",
       "      <td>Lugar9</td>\n",
       "      <td>7.0</td>\n",
       "      <td>2019-09-30 20:37:21</td>\n",
       "      <td>2019-09-30 22:36:52</td>\n",
       "    </tr>\n",
       "  </tbody>\n",
       "</table>\n",
       "</div>"
      ],
      "text/plain": [
       "      nome   lugar  preco               inicio                  fim\n",
       "0  Cerveja  Lugar9    7.0  2019-09-30 20:37:21  2019-09-30 22:36:52"
      ]
     },
     "execution_count": 4,
     "metadata": {},
     "output_type": "execute_result"
    }
   ],
   "source": [
    "id_pelada = 9\n",
    "\n",
    "df01 = pd.read_sql_query(\"SELECT Grupo_de_pelada.nome, lugar, preco, inicio, fim \" +\n",
    "                         \"FROM Pelada NATURAL JOIN Grupo_de_pelada \" +\n",
    "                         \"WHERE Pelada.id_pelada = \" + str(id_pelada) + \" ;\", conn)\n",
    "\n",
    "        \n",
    "df01"
   ]
  },
  {
   "cell_type": "markdown",
   "metadata": {},
   "source": [
    "#### Consulta 2\n",
    "Lista as métricas de todos os jogadores que participaram de uma determinada partida, ordenando alfabeticamente."
   ]
  },
  {
   "cell_type": "code",
   "execution_count": 5,
   "metadata": {},
   "outputs": [
    {
     "data": {
      "text/html": [
       "<div>\n",
       "<style scoped>\n",
       "    .dataframe tbody tr th:only-of-type {\n",
       "        vertical-align: middle;\n",
       "    }\n",
       "\n",
       "    .dataframe tbody tr th {\n",
       "        vertical-align: top;\n",
       "    }\n",
       "\n",
       "    .dataframe thead th {\n",
       "        text-align: right;\n",
       "    }\n",
       "</style>\n",
       "<table border=\"1\" class=\"dataframe\">\n",
       "  <thead>\n",
       "    <tr style=\"text-align: right;\">\n",
       "      <th></th>\n",
       "      <th>nome_pessoa</th>\n",
       "      <th>Pontos</th>\n",
       "      <th>Nota</th>\n",
       "      <th>G</th>\n",
       "      <th>GC</th>\n",
       "    </tr>\n",
       "  </thead>\n",
       "  <tbody>\n",
       "    <tr>\n",
       "      <th>0</th>\n",
       "      <td>Emanuelly</td>\n",
       "      <td>26</td>\n",
       "      <td>None</td>\n",
       "      <td>1</td>\n",
       "      <td>0</td>\n",
       "    </tr>\n",
       "    <tr>\n",
       "      <th>1</th>\n",
       "      <td>Henrique</td>\n",
       "      <td>4</td>\n",
       "      <td>None</td>\n",
       "      <td>3</td>\n",
       "      <td>0</td>\n",
       "    </tr>\n",
       "    <tr>\n",
       "      <th>2</th>\n",
       "      <td>Joaquim</td>\n",
       "      <td>29</td>\n",
       "      <td>None</td>\n",
       "      <td>2</td>\n",
       "      <td>1</td>\n",
       "    </tr>\n",
       "    <tr>\n",
       "      <th>3</th>\n",
       "      <td>Laura</td>\n",
       "      <td>44</td>\n",
       "      <td>None</td>\n",
       "      <td>2</td>\n",
       "      <td>0</td>\n",
       "    </tr>\n",
       "    <tr>\n",
       "      <th>4</th>\n",
       "      <td>Lorena</td>\n",
       "      <td>21</td>\n",
       "      <td>None</td>\n",
       "      <td>1</td>\n",
       "      <td>0</td>\n",
       "    </tr>\n",
       "    <tr>\n",
       "      <th>5</th>\n",
       "      <td>Samuel</td>\n",
       "      <td>14</td>\n",
       "      <td>None</td>\n",
       "      <td>2</td>\n",
       "      <td>0</td>\n",
       "    </tr>\n",
       "    <tr>\n",
       "      <th>6</th>\n",
       "      <td>Sophia</td>\n",
       "      <td>30</td>\n",
       "      <td>None</td>\n",
       "      <td>3</td>\n",
       "      <td>0</td>\n",
       "    </tr>\n",
       "  </tbody>\n",
       "</table>\n",
       "</div>"
      ],
      "text/plain": [
       "  nome_pessoa  Pontos  Nota  G  GC\n",
       "0   Emanuelly      26  None  1   0\n",
       "1    Henrique       4  None  3   0\n",
       "2     Joaquim      29  None  2   1\n",
       "3       Laura      44  None  2   0\n",
       "4      Lorena      21  None  1   0\n",
       "5      Samuel      14  None  2   0\n",
       "6      Sophia      30  None  3   0"
      ]
     },
     "execution_count": 5,
     "metadata": {},
     "output_type": "execute_result"
    }
   ],
   "source": [
    "id_pelada = 9\n",
    "\n",
    "df02 = pd.read_sql_query(\"SELECT nome_pessoa, Pontos, Nota, G, GC \" +\n",
    "                         \"FROM Jogador NATURAL JOIN Pessoa \" +\n",
    "                         \"WHERE Jogador.id_pelada = \" + str(id_pelada) + \" \" +\n",
    "                         \"ORDER BY nome_pessoa;\", conn)\n",
    "\n",
    "        \n",
    "df02"
   ]
  },
  {
   "cell_type": "markdown",
   "metadata": {},
   "source": [
    "#### Consulta 3\n",
    "Lista todos os grupos dos quais determinado usuário é administrador."
   ]
  },
  {
   "cell_type": "code",
   "execution_count": 6,
   "metadata": {},
   "outputs": [
    {
     "data": {
      "text/html": [
       "<div>\n",
       "<style scoped>\n",
       "    .dataframe tbody tr th:only-of-type {\n",
       "        vertical-align: middle;\n",
       "    }\n",
       "\n",
       "    .dataframe tbody tr th {\n",
       "        vertical-align: top;\n",
       "    }\n",
       "\n",
       "    .dataframe thead th {\n",
       "        text-align: right;\n",
       "    }\n",
       "</style>\n",
       "<table border=\"1\" class=\"dataframe\">\n",
       "  <thead>\n",
       "    <tr style=\"text-align: right;\">\n",
       "      <th></th>\n",
       "      <th>nome</th>\n",
       "      <th>descricao</th>\n",
       "    </tr>\n",
       "  </thead>\n",
       "  <tbody>\n",
       "    <tr>\n",
       "      <th>0</th>\n",
       "      <td>Girls</td>\n",
       "      <td></td>\n",
       "    </tr>\n",
       "  </tbody>\n",
       "</table>\n",
       "</div>"
      ],
      "text/plain": [
       "    nome descricao\n",
       "0  Girls          "
      ]
     },
     "execution_count": 6,
     "metadata": {},
     "output_type": "execute_result"
    }
   ],
   "source": [
    "#pessoa desejada\n",
    "email = 'helena@gmail.com'\n",
    "\n",
    "df06 = pd.read_sql_query(\"SELECT Grupo_de_pelada.nome, Grupo_de_pelada.descricao \" +\n",
    "                         \"FROM Pessoa JOIN Grupo_de_Pelada ON Pessoa.id_pessoa = Grupo_de_Pelada.id_adm \" +\n",
    "                         \"WHERE Pessoa.email = '\" + email + \"';\", conn)\n",
    "\n",
    "        \n",
    "df06"
   ]
  },
  {
   "cell_type": "markdown",
   "metadata": {},
   "source": [
    "#### Consulta 4\n",
    "Lista todas as peladas de um grupo que estão compreendidas em um determinado intervalo de tempo"
   ]
  },
  {
   "cell_type": "code",
   "execution_count": 7,
   "metadata": {},
   "outputs": [
    {
     "data": {
      "text/html": [
       "<div>\n",
       "<style scoped>\n",
       "    .dataframe tbody tr th:only-of-type {\n",
       "        vertical-align: middle;\n",
       "    }\n",
       "\n",
       "    .dataframe tbody tr th {\n",
       "        vertical-align: top;\n",
       "    }\n",
       "\n",
       "    .dataframe thead th {\n",
       "        text-align: right;\n",
       "    }\n",
       "</style>\n",
       "<table border=\"1\" class=\"dataframe\">\n",
       "  <thead>\n",
       "    <tr style=\"text-align: right;\">\n",
       "      <th></th>\n",
       "      <th>lugar</th>\n",
       "      <th>preco</th>\n",
       "      <th>inicio</th>\n",
       "      <th>fim</th>\n",
       "    </tr>\n",
       "  </thead>\n",
       "  <tbody>\n",
       "    <tr>\n",
       "      <th>0</th>\n",
       "      <td>Lugar5</td>\n",
       "      <td>8.0</td>\n",
       "      <td>2019-06-10 22:42:59</td>\n",
       "      <td>2019-06-11 00:42:30</td>\n",
       "    </tr>\n",
       "    <tr>\n",
       "      <th>1</th>\n",
       "      <td>Lugar28</td>\n",
       "      <td>3.0</td>\n",
       "      <td>2019-08-31 02:42:33</td>\n",
       "      <td>2019-08-31 04:42:04</td>\n",
       "    </tr>\n",
       "    <tr>\n",
       "      <th>2</th>\n",
       "      <td>Lugar29</td>\n",
       "      <td>9.0</td>\n",
       "      <td>2019-11-27 02:36:38</td>\n",
       "      <td>2019-11-27 04:36:09</td>\n",
       "    </tr>\n",
       "  </tbody>\n",
       "</table>\n",
       "</div>"
      ],
      "text/plain": [
       "     lugar  preco               inicio                  fim\n",
       "0   Lugar5    8.0  2019-06-10 22:42:59  2019-06-11 00:42:30\n",
       "1  Lugar28    3.0  2019-08-31 02:42:33  2019-08-31 04:42:04\n",
       "2  Lugar29    9.0  2019-11-27 02:36:38  2019-11-27 04:36:09"
      ]
     },
     "execution_count": 7,
     "metadata": {},
     "output_type": "execute_result"
    }
   ],
   "source": [
    "id_grupo_de_pelada = 1 #grupo desejado\n",
    "data_inicio = '2019-06-04 00:00:00' #formato AAAA-MM-DD HH:MM:SS\n",
    "data_fim = '2019-12-30 00:00:00' #formato AAAA-MM-DD HH:MM:SS\n",
    "\n",
    "df04 = pd.read_sql_query(\"SELECT lugar, preco, inicio, fim \" +\n",
    "                         \"FROM Grupo_de_pelada NATURAL JOIN Pelada \" +\n",
    "                         \"WHERE id_grupo_de_pelada = \" + str(id_grupo_de_pelada) + \" AND \" +\n",
    "                             \"(inicio BETWEEN '\"+ data_inicio +\"' AND '\" + data_fim + \"' ) \" +\n",
    "                         \"ORDER BY inicio;\", conn)\n",
    "\n",
    "        \n",
    "df04"
   ]
  },
  {
   "cell_type": "markdown",
   "metadata": {},
   "source": [
    "#### Consulta 5\n",
    "Lista todas vaquinhas de um grupo que estão compreendidas em um determinado intervalo de tempo"
   ]
  },
  {
   "cell_type": "code",
   "execution_count": 8,
   "metadata": {},
   "outputs": [
    {
     "data": {
      "text/html": [
       "<div>\n",
       "<style scoped>\n",
       "    .dataframe tbody tr th:only-of-type {\n",
       "        vertical-align: middle;\n",
       "    }\n",
       "\n",
       "    .dataframe tbody tr th {\n",
       "        vertical-align: top;\n",
       "    }\n",
       "\n",
       "    .dataframe thead th {\n",
       "        text-align: right;\n",
       "    }\n",
       "</style>\n",
       "<table border=\"1\" class=\"dataframe\">\n",
       "  <thead>\n",
       "    <tr style=\"text-align: right;\">\n",
       "      <th></th>\n",
       "      <th>motivo</th>\n",
       "      <th>prazo</th>\n",
       "    </tr>\n",
       "  </thead>\n",
       "  <tbody>\n",
       "    <tr>\n",
       "      <th>0</th>\n",
       "      <td>camisa</td>\n",
       "      <td>2019-08-11 00:00:00</td>\n",
       "    </tr>\n",
       "  </tbody>\n",
       "</table>\n",
       "</div>"
      ],
      "text/plain": [
       "   motivo                prazo\n",
       "0  camisa  2019-08-11 00:00:00"
      ]
     },
     "execution_count": 8,
     "metadata": {},
     "output_type": "execute_result"
    }
   ],
   "source": [
    "id_grupo_de_pelada = 1 #grupo desejado\n",
    "data_inicio = '2019-06-04 00:00:00' #formato AAAA-MM-DD HH:MM:SS\n",
    "data_fim = '2019-08-30 00:00:00' #formato AAAA-MM-DD HH:MM:SS\n",
    "\n",
    "df05 = pd.read_sql_query(\"SELECT motivo, prazo \" +\n",
    "                         \"FROM Grupo_de_pelada NATURAL JOIN Vaquinha \" +\n",
    "                         \"WHERE id_grupo_de_pelada = \" + str(id_grupo_de_pelada) + \" AND \" +\n",
    "                             \"(prazo BETWEEN '\"+ data_inicio +\"' AND '\" + data_fim + \"' ) \" +\n",
    "                         \"ORDER BY prazo;\", conn)\n",
    "\n",
    "        \n",
    "df05"
   ]
  },
  {
   "cell_type": "markdown",
   "metadata": {},
   "source": [
    "#### Consulta 6\n",
    "Lista todos os grupos de pelada a que uma pessoa pertence."
   ]
  },
  {
   "cell_type": "code",
   "execution_count": 9,
   "metadata": {},
   "outputs": [
    {
     "data": {
      "text/html": [
       "<div>\n",
       "<style scoped>\n",
       "    .dataframe tbody tr th:only-of-type {\n",
       "        vertical-align: middle;\n",
       "    }\n",
       "\n",
       "    .dataframe tbody tr th {\n",
       "        vertical-align: top;\n",
       "    }\n",
       "\n",
       "    .dataframe thead th {\n",
       "        text-align: right;\n",
       "    }\n",
       "</style>\n",
       "<table border=\"1\" class=\"dataframe\">\n",
       "  <thead>\n",
       "    <tr style=\"text-align: right;\">\n",
       "      <th></th>\n",
       "      <th>nome</th>\n",
       "      <th>descricao</th>\n",
       "    </tr>\n",
       "  </thead>\n",
       "  <tbody>\n",
       "    <tr>\n",
       "      <th>0</th>\n",
       "      <td>Girls</td>\n",
       "      <td></td>\n",
       "    </tr>\n",
       "    <tr>\n",
       "      <th>1</th>\n",
       "      <td>Vodka</td>\n",
       "      <td></td>\n",
       "    </tr>\n",
       "    <tr>\n",
       "      <th>2</th>\n",
       "      <td>Catuaba</td>\n",
       "      <td></td>\n",
       "    </tr>\n",
       "  </tbody>\n",
       "</table>\n",
       "</div>"
      ],
      "text/plain": [
       "      nome descricao\n",
       "0    Girls          \n",
       "1    Vodka          \n",
       "2  Catuaba          "
      ]
     },
     "execution_count": 9,
     "metadata": {},
     "output_type": "execute_result"
    }
   ],
   "source": [
    "#pessoa desejada\n",
    "email = 'isabella@gmail.com'\n",
    "\n",
    "df06 = pd.read_sql_query(\"SELECT Grupo_de_pelada.nome, Grupo_de_pelada.descricao \" +\n",
    "                         \"FROM Pessoa NATURAL JOIN Participa_grupo_pelada NATURAL JOIN Grupo_de_pelada \" +\n",
    "                         \"WHERE Pessoa.email = '\" + email + \"';\", conn)\n",
    "\n",
    "        \n",
    "df06"
   ]
  },
  {
   "cell_type": "markdown",
   "metadata": {},
   "source": [
    "#### Consulta 7\n",
    "Lista as últimas partidas que o jogador participou, o grupo de pelada em que a partida foi jogada, a data e a hora da partida, e as métricas do jogador na partida em questão, mostrando a mais recentes primeiro. \n",
    "\n",
    "Obs: Os dados em questão são fictícios. Por isso exitem resultados com datas futuras. No entanto, uma linha na tabela Jogador só será criada após a partida. Assim, apenas serão retornados valores de jogos que já ocorreram (e não que vão ocorrer, como aconteceu no exemplo abaixo)."
   ]
  },
  {
   "cell_type": "code",
   "execution_count": 10,
   "metadata": {},
   "outputs": [
    {
     "data": {
      "text/html": [
       "<div>\n",
       "<style scoped>\n",
       "    .dataframe tbody tr th:only-of-type {\n",
       "        vertical-align: middle;\n",
       "    }\n",
       "\n",
       "    .dataframe tbody tr th {\n",
       "        vertical-align: top;\n",
       "    }\n",
       "\n",
       "    .dataframe thead th {\n",
       "        text-align: right;\n",
       "    }\n",
       "</style>\n",
       "<table border=\"1\" class=\"dataframe\">\n",
       "  <thead>\n",
       "    <tr style=\"text-align: right;\">\n",
       "      <th></th>\n",
       "      <th>nome</th>\n",
       "      <th>lugar</th>\n",
       "      <th>preco</th>\n",
       "      <th>inicio</th>\n",
       "      <th>Pontos</th>\n",
       "      <th>Nota</th>\n",
       "      <th>G</th>\n",
       "      <th>GC</th>\n",
       "    </tr>\n",
       "  </thead>\n",
       "  <tbody>\n",
       "    <tr>\n",
       "      <th>0</th>\n",
       "      <td>Vodka</td>\n",
       "      <td>Lugar10</td>\n",
       "      <td>8.0</td>\n",
       "      <td>2020-04-16 08:12:47</td>\n",
       "      <td>13</td>\n",
       "      <td>None</td>\n",
       "      <td>0</td>\n",
       "      <td>0</td>\n",
       "    </tr>\n",
       "    <tr>\n",
       "      <th>1</th>\n",
       "      <td>Girls</td>\n",
       "      <td>Lugar5</td>\n",
       "      <td>8.0</td>\n",
       "      <td>2019-06-10 22:42:59</td>\n",
       "      <td>43</td>\n",
       "      <td>None</td>\n",
       "      <td>3</td>\n",
       "      <td>0</td>\n",
       "    </tr>\n",
       "    <tr>\n",
       "      <th>2</th>\n",
       "      <td>Mista</td>\n",
       "      <td>Lugar11</td>\n",
       "      <td>8.0</td>\n",
       "      <td>2019-04-27 20:13:45</td>\n",
       "      <td>26</td>\n",
       "      <td>None</td>\n",
       "      <td>2</td>\n",
       "      <td>0</td>\n",
       "    </tr>\n",
       "    <tr>\n",
       "      <th>3</th>\n",
       "      <td>Girls</td>\n",
       "      <td>Lugar12</td>\n",
       "      <td>4.0</td>\n",
       "      <td>2019-04-17 03:12:18</td>\n",
       "      <td>5</td>\n",
       "      <td>None</td>\n",
       "      <td>1</td>\n",
       "      <td>0</td>\n",
       "    </tr>\n",
       "    <tr>\n",
       "      <th>4</th>\n",
       "      <td>Vodka</td>\n",
       "      <td>Lugar25</td>\n",
       "      <td>14.0</td>\n",
       "      <td>2019-03-27 04:34:46</td>\n",
       "      <td>4</td>\n",
       "      <td>None</td>\n",
       "      <td>0</td>\n",
       "      <td>0</td>\n",
       "    </tr>\n",
       "    <tr>\n",
       "      <th>5</th>\n",
       "      <td>Vodka</td>\n",
       "      <td>Lugar4</td>\n",
       "      <td>5.0</td>\n",
       "      <td>2018-09-09 17:47:10</td>\n",
       "      <td>47</td>\n",
       "      <td>None</td>\n",
       "      <td>0</td>\n",
       "      <td>0</td>\n",
       "    </tr>\n",
       "  </tbody>\n",
       "</table>\n",
       "</div>"
      ],
      "text/plain": [
       "    nome    lugar  preco               inicio  Pontos  Nota  G  GC\n",
       "0  Vodka  Lugar10    8.0  2020-04-16 08:12:47      13  None  0   0\n",
       "1  Girls   Lugar5    8.0  2019-06-10 22:42:59      43  None  3   0\n",
       "2  Mista  Lugar11    8.0  2019-04-27 20:13:45      26  None  2   0\n",
       "3  Girls  Lugar12    4.0  2019-04-17 03:12:18       5  None  1   0\n",
       "4  Vodka  Lugar25   14.0  2019-03-27 04:34:46       4  None  0   0\n",
       "5  Vodka   Lugar4    5.0  2018-09-09 17:47:10      47  None  0   0"
      ]
     },
     "execution_count": 10,
     "metadata": {},
     "output_type": "execute_result"
    }
   ],
   "source": [
    "#pessoa desejada\n",
    "email = 'manuela@gmail.com'\n",
    "\n",
    "df07 = pd.read_sql_query(\"SELECT Grupo_de_pelada.nome, Pelada.lugar, Pelada.preco, Pelada.inicio, Pontos, Nota, G, GC \" +\n",
    "                         \"FROM Pessoa NATURAL JOIN Jogador NATURAL JOIN Pelada NATURAL JOIN Grupo_de_pelada \" +\n",
    "                         \"WHERE Pessoa.email = '\" + email + \"'\"+\n",
    "                         \"ORDER BY inicio desc;\", conn)\n",
    "\n",
    "        \n",
    "df07"
   ]
  },
  {
   "cell_type": "markdown",
   "metadata": {},
   "source": [
    "#### Consulta 9\n",
    "Lista as peladas das quais determinado jogador participou, em ordem decrescente do número total de gols feitos na partida."
   ]
  },
  {
   "cell_type": "code",
   "execution_count": 11,
   "metadata": {},
   "outputs": [
    {
     "data": {
      "text/html": [
       "<div>\n",
       "<style scoped>\n",
       "    .dataframe tbody tr th:only-of-type {\n",
       "        vertical-align: middle;\n",
       "    }\n",
       "\n",
       "    .dataframe tbody tr th {\n",
       "        vertical-align: top;\n",
       "    }\n",
       "\n",
       "    .dataframe thead th {\n",
       "        text-align: right;\n",
       "    }\n",
       "</style>\n",
       "<table border=\"1\" class=\"dataframe\">\n",
       "  <thead>\n",
       "    <tr style=\"text-align: right;\">\n",
       "      <th></th>\n",
       "      <th>nome</th>\n",
       "      <th>lugar</th>\n",
       "      <th>inicio</th>\n",
       "      <th>Gols_na_partida</th>\n",
       "    </tr>\n",
       "  </thead>\n",
       "  <tbody>\n",
       "    <tr>\n",
       "      <th>0</th>\n",
       "      <td>Mista</td>\n",
       "      <td>Lugar11</td>\n",
       "      <td>2019-04-27 20:13:45</td>\n",
       "      <td>10</td>\n",
       "    </tr>\n",
       "    <tr>\n",
       "      <th>1</th>\n",
       "      <td>Girls</td>\n",
       "      <td>Lugar12</td>\n",
       "      <td>2019-04-17 03:12:18</td>\n",
       "      <td>10</td>\n",
       "    </tr>\n",
       "    <tr>\n",
       "      <th>2</th>\n",
       "      <td>Vodka</td>\n",
       "      <td>Lugar4</td>\n",
       "      <td>2018-09-09 17:47:10</td>\n",
       "      <td>7</td>\n",
       "    </tr>\n",
       "    <tr>\n",
       "      <th>3</th>\n",
       "      <td>Girls</td>\n",
       "      <td>Lugar5</td>\n",
       "      <td>2019-06-10 22:42:59</td>\n",
       "      <td>7</td>\n",
       "    </tr>\n",
       "    <tr>\n",
       "      <th>4</th>\n",
       "      <td>Vodka</td>\n",
       "      <td>Lugar10</td>\n",
       "      <td>2020-04-16 08:12:47</td>\n",
       "      <td>4</td>\n",
       "    </tr>\n",
       "    <tr>\n",
       "      <th>5</th>\n",
       "      <td>Vodka</td>\n",
       "      <td>Lugar25</td>\n",
       "      <td>2019-03-27 04:34:46</td>\n",
       "      <td>3</td>\n",
       "    </tr>\n",
       "  </tbody>\n",
       "</table>\n",
       "</div>"
      ],
      "text/plain": [
       "    nome    lugar               inicio  Gols_na_partida\n",
       "0  Mista  Lugar11  2019-04-27 20:13:45               10\n",
       "1  Girls  Lugar12  2019-04-17 03:12:18               10\n",
       "2  Vodka   Lugar4  2018-09-09 17:47:10                7\n",
       "3  Girls   Lugar5  2019-06-10 22:42:59                7\n",
       "4  Vodka  Lugar10  2020-04-16 08:12:47                4\n",
       "5  Vodka  Lugar25  2019-03-27 04:34:46                3"
      ]
     },
     "execution_count": 11,
     "metadata": {},
     "output_type": "execute_result"
    }
   ],
   "source": [
    "email = 'manuela@gmail.com'\n",
    "\n",
    "df09 = pd.read_sql_query(\"SELECT Grupo_de_Pelada.nome, lugar, inicio, sum(G) as Gols_na_partida  \" +\n",
    "                         \"FROM Jogador NATURAL JOIN Pelada NATURAL JOIN Grupo_de_Pelada \" +\n",
    "                         \"WHERE id_pelada in (SELECT id_pelada FROM Jogador NATURAL JOIN Pessoa WHERE email = '\" + email + \"') \" +\n",
    "                         \"GROUP BY id_pelada \" +\n",
    "                         \"ORDER BY Gols_na_partida desc;\", conn)\n",
    "\n",
    "df09"
   ]
  },
  {
   "cell_type": "markdown",
   "metadata": {},
   "source": [
    "#### Consulta 10\n",
    "Contabiliza o total já arrecadado em uma vaquinha coletiva."
   ]
  },
  {
   "cell_type": "code",
   "execution_count": null,
   "metadata": {},
   "outputs": [],
   "source": []
  }
 ],
 "metadata": {
  "kernelspec": {
   "display_name": "Python 3",
   "language": "python",
   "name": "python3"
  },
  "language_info": {
   "codemirror_mode": {
    "name": "ipython",
    "version": 3
   },
   "file_extension": ".py",
   "mimetype": "text/x-python",
   "name": "python",
   "nbconvert_exporter": "python",
   "pygments_lexer": "ipython3",
   "version": "3.6.7"
  }
 },
 "nbformat": 4,
 "nbformat_minor": 2
}
