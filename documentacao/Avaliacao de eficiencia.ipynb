{
 "cells": [
  {
   "cell_type": "markdown",
   "metadata": {},
   "source": [
    "# Avaliação de eficiência das consultas\n",
    "\n",
    "### Tema: Gerenciador de peladas\n",
    "#### Grupo:\n",
    "* Breno Poggiali de Sousa\n",
    "* Gabriela Peres Neme\n",
    "* Guilherme de Abreu Lima Buitrago Miranda\n",
    "* Vinicius Julião Ramos \n",
    "\n",
    "#### Objetivo:\n",
    "Cada uma das 10 consultas realizadas anteriormente podem ser formuladas de pelo menos duas formas. Nesse sentido, serão avaliadas as formas mais eficientes de realizá-las. Para isso, serão separadas três formas de avaliação principais: \n",
    "* NATURAL JOIN X JOIN ON\n",
    "* NATURAL JOIN X produto cartesiano + condição WHERE\n",
    "* JOIN ON X produto cartesiano + condição WHERE\n",
    "* FROM A JOIN B WHERE B =... X FROM A JOIN (SELECT * FROM B WHERE B =...) \n",
    "* LIMIT(1) X MAX"
   ]
  },
  {
   "cell_type": "markdown",
   "metadata": {},
   "source": [
    "#### Importação das bibliotecas e conexão ao banco de dados:"
   ]
  },
  {
   "cell_type": "code",
   "execution_count": 1,
   "metadata": {},
   "outputs": [],
   "source": [
    "import io\n",
    "import sqlite3\n",
    "import pandas as pd\n",
    "import time\n",
    "import matplotlib.pyplot as plt\n",
    "import numpy as np\n",
    "\n",
    "conn = sqlite3.connect('BD/tp2.db')\n",
    "cursor = conn.cursor()"
   ]
  },
  {
   "cell_type": "code",
   "execution_count": 2,
   "metadata": {},
   "outputs": [],
   "source": [
    "# função que executa as consultas a partir de uma string, <num_repeticoes> vezes e apura a média das execuções\n",
    "def executaComandosSQL(consulta, conn, num_repeticoes = 100):\n",
    "    t=np.empty(num_repeticoes)\n",
    "    for i in range(0, num_repeticoes):\n",
    "        start = time.time()\n",
    "        df = pd.read_sql_query(consulta, conn)\n",
    "        end = time.time()\n",
    "        t[i] = end - start\n",
    "    \n",
    "    return t.mean()\n",
    "    \n"
   ]
  },
  {
   "cell_type": "markdown",
   "metadata": {},
   "source": [
    "## Avaliação 1 - NATURAL JOIN X JOIN\n",
    "Serão utilizadas as consultas 1, 2 e 4 para essa avaliação"
   ]
  },
  {
   "cell_type": "code",
   "execution_count": 3,
   "metadata": {},
   "outputs": [],
   "source": [
    "t1=[]\n",
    "t2=[]"
   ]
  },
  {
   "cell_type": "markdown",
   "metadata": {},
   "source": [
    "#### Consulta 1"
   ]
  },
  {
   "cell_type": "code",
   "execution_count": 4,
   "metadata": {},
   "outputs": [],
   "source": [
    "id_vaquinha_coletiva = 2\n",
    "# Forma 1, usando NATURAL JOIN\n",
    "consulta = (\"SELECT nome_pessoa, valor_pago \" \n",
    "            \"FROM Vaquinha_Coletiva_Pessoa NATURAL JOIN Pessoa \" \n",
    "             \"WHERE id_vaquinha_coletiva = \" + str(id_vaquinha_coletiva) + \n",
    "             \" ORDER BY nome_pessoa;\")\n",
    "\n",
    "t1.append(executaComandosSQL(consulta, conn))\n",
    "\n",
    "# Forma 2, usando JOIN ON\n",
    "consulta =(\"SELECT nome_pessoa, valor_pago \" \n",
    "             \"FROM Vaquinha_Coletiva_Pessoa JOIN Pessoa ON Vaquinha_Coletiva_Pessoa.id_pessoa = Pessoa.id_pessoa \" \n",
    "             \"WHERE id_vaquinha_coletiva = \" + str(id_vaquinha_coletiva) + \" \"\n",
    "             \"ORDER BY nome_pessoa;\")\n",
    "\n",
    "t2.append(executaComandosSQL(consulta, conn))"
   ]
  },
  {
   "cell_type": "markdown",
   "metadata": {},
   "source": [
    "#### Consulta 2"
   ]
  },
  {
   "cell_type": "code",
   "execution_count": 5,
   "metadata": {},
   "outputs": [],
   "source": [
    "id_pelada = 9\n",
    "\n",
    "# Forma 1, usando NATURAL JOIN\n",
    "consulta = (\"SELECT nome_pessoa, Pontos, Nota, G, GC \"\n",
    "             \"FROM Jogador NATURAL JOIN Pessoa \" \n",
    "             \"WHERE Jogador.id_pelada = \" + str(id_pelada) + \" \" \n",
    "             \"ORDER BY nome_pessoa;\")\n",
    "t1.append(executaComandosSQL(consulta, conn))\n",
    "\n",
    "# Forma 2, usando JOIN ON\n",
    "consulta = (\"SELECT nome_pessoa, Pontos, Nota, G, GC \" \n",
    "             \"FROM Jogador JOIN Pessoa ON Jogador.id_pessoa = Pessoa.id_pessoa  \" \n",
    "             \"WHERE Jogador.id_pelada = \" + str(id_pelada) + \" \" \n",
    "             \"ORDER BY nome_pessoa;\")\n",
    "\n",
    "t2.append(executaComandosSQL(consulta, conn))"
   ]
  },
  {
   "cell_type": "markdown",
   "metadata": {},
   "source": [
    "#### Consulta 4"
   ]
  },
  {
   "cell_type": "code",
   "execution_count": 6,
   "metadata": {},
   "outputs": [],
   "source": [
    "id_grupo_de_pelada = 1 #grupo desejado\n",
    "data_inicio = '2019-06-04 00:00:00' #formato AAAA-MM-DD HH:MM:SS\n",
    "data_fim = '2019-12-30 00:00:00' #formato AAAA-MM-DD HH:MM:SS\n",
    "\n",
    "# Forma 1, usando NATURAL JOIN\n",
    "consulta = (\"SELECT lugar, preco, inicio, fim \" \n",
    "             \"FROM Grupo_de_pelada NATURAL JOIN Pelada \" \n",
    "             \"WHERE id_grupo_de_pelada = \" + str(id_grupo_de_pelada) + \" AND \" \n",
    "                 \"(inicio BETWEEN '\"+ data_inicio +\"' AND '\" + data_fim + \"' ) \" \n",
    "             \"ORDER BY inicio;\")\n",
    "t1.append(executaComandosSQL(consulta, conn))\n",
    "\n",
    "# Forma 2, usando JOIN ON\n",
    "consulta = (\"SELECT lugar, preco, inicio, fim \" \n",
    "             \"FROM Grupo_de_pelada JOIN Pelada ON Grupo_de_pelada.id_grupo_de_pelada = Pelada.id_grupo_de_pelada \" \n",
    "             \"WHERE Pelada.id_grupo_de_pelada = \" + str(id_grupo_de_pelada) + \" AND \" \n",
    "                 \"(inicio BETWEEN '\"+ data_inicio +\"' AND '\" + data_fim + \"' ) \" \n",
    "             \"ORDER BY inicio;\")\n",
    "\n",
    "t2.append(executaComandosSQL(consulta, conn))"
   ]
  },
  {
   "cell_type": "markdown",
   "metadata": {},
   "source": [
    "### Comparação de resultados"
   ]
  },
  {
   "cell_type": "code",
   "execution_count": 7,
   "metadata": {},
   "outputs": [
    {
     "data": {
      "image/png": "[encoded data removed]",
      "text/plain": [
       "<Figure size 432x288 with 1 Axes>"
      ]
     },
     "metadata": {
      "needs_background": "light"
     },
     "output_type": "display_data"
    }
   ],
   "source": [
    "ind = np.arange(len(t1)) \n",
    "width = 0.35\n",
    "plt.bar(ind-width/2, t1, width, label='NATURAL JOIN')\n",
    "plt.bar(ind+width/2, t2, width, label='JOIN ON')\n",
    "plt.ylabel('Tempo (s)')\n",
    "plt.title('Comparação de eficiência NATURAL JOIN X JOIN ON')\n",
    "plt.xticks(ind, ('C1', 'C2', 'C4'))\n",
    "plt.legend()\n",
    "plt.show()"
   ]
  },
  {
   "cell_type": "markdown",
   "metadata": {},
   "source": [
    "### Conclusão análise 1\n",
    "Apesar de haver variações significativas do tempo obtido a cada iteração, em todas as simulações o tempo de execução da operação NATURAL JOIN foi maior que da operação JOIN ON. Tal fato evidencia que a operação de JOIN ON é mais eficiente que a operação de NATURAL JOIN.\n",
    "\n",
    "Uma explicação plausível para essa diferença de desempenho é que, ao utilizar NATURAL JOIN, é necessário que o SGBD realize uma busca entre os nomes das colunas, à procura daqueles que são coincidentes. Como, para a operação JOIN ON, a informação da coluna em que será feita a junção é fornecida no comando, o algoritmo de busca de colunas com nomes coincidentes não é feito, o que torna sua execução mais rápida e, consequentemente, mais eficiente."
   ]
  },
  {
   "cell_type": "markdown",
   "metadata": {},
   "source": [
    "## Avaliação 2 - NATURAL JOIN X produto cartesiano + condição WHERE\n",
    "Serão utilizadas as consultas 5 e 6 para essa avaliação"
   ]
  },
  {
   "cell_type": "code",
   "execution_count": 8,
   "metadata": {},
   "outputs": [],
   "source": [
    "t1.clear()\n",
    "t2.clear()"
   ]
  },
  {
   "cell_type": "markdown",
   "metadata": {},
   "source": [
    "#### Consulta 5"
   ]
  },
  {
   "cell_type": "code",
   "execution_count": 9,
   "metadata": {},
   "outputs": [],
   "source": [
    "id_grupo_de_pelada = 1 #grupo desejado\n",
    "data_inicio = '2019-06-04 00:00:00' #formato AAAA-MM-DD HH:MM:SS\n",
    "data_fim = '2019-08-30 00:00:00' #formato AAAA-MM-DD HH:MM:SS\n",
    "\n",
    "# Forma 1, usando NATURAL JOIN\n",
    "consulta = (\"SELECT motivo, prazo \" \n",
    "             \"FROM Grupo_de_pelada NATURAL JOIN Vaquinha \" \n",
    "             \"WHERE id_grupo_de_pelada = \" + str(id_grupo_de_pelada) + \" AND \" \n",
    "                 \"(prazo BETWEEN '\"+ data_inicio +\"' AND '\" + data_fim + \"' ) \" \n",
    "             \"ORDER BY prazo;\")\n",
    "\n",
    "t1.append(executaComandosSQL(consulta, conn))\n",
    "\n",
    "# Forma 2, usando produto cartesiano + condição WHERE\n",
    "consulta = (\"SELECT motivo, prazo \" \n",
    "             \"FROM Grupo_de_pelada, Vaquinha \" \n",
    "             \"WHERE Grupo_de_pelada.id_grupo_de_pelada = \" + str(id_grupo_de_pelada) + \" AND \" \n",
    "                   \"(prazo BETWEEN '\"+ data_inicio +\"' AND '\" + data_fim + \"' ) AND \"\n",
    "                   \"Vaquinha.id_grupo_de_pelada = Grupo_de_pelada.id_grupo_de_pelada \"\n",
    "             \"ORDER BY prazo;\")\n",
    "\n",
    "t2.append(executaComandosSQL(consulta, conn))"
   ]
  },
  {
   "cell_type": "markdown",
   "metadata": {},
   "source": [
    "#### Consulta 6"
   ]
  },
  {
   "cell_type": "code",
   "execution_count": 10,
   "metadata": {},
   "outputs": [],
   "source": [
    "email = 'isabella@gmail.com'\n",
    "\n",
    "# Forma 1, usando NATURAL JOIN\n",
    "consulta = (\"SELECT Grupo_de_pelada.nome, Grupo_de_pelada.descricao \" \n",
    "             \"FROM Pessoa NATURAL JOIN Participa_grupo_pelada NATURAL JOIN Grupo_de_pelada \" \n",
    "             \"WHERE Pessoa.email = '\" + email + \"';\")\n",
    "\n",
    "t1.append(executaComandosSQL(consulta, conn))\n",
    "\n",
    "# Forma 2, usando produto cartesiano + condição WHERE\n",
    "consulta = (\"SELECT Grupo_de_pelada.nome, Grupo_de_pelada.descricao \" \n",
    "             \"FROM Pessoa, Participa_grupo_pelada, Grupo_de_pelada \" \n",
    "             \"WHERE Pessoa.email = '\" + email + \"' AND \"\n",
    "             \"Pessoa.id_pessoa = Participa_grupo_pelada.id_pessoa AND \"\n",
    "             \"Participa_grupo_pelada.id_grupo_de_pelada = Grupo_de_pelada.id_grupo_de_pelada;\")\n",
    "\n",
    "t2.append(executaComandosSQL(consulta, conn))"
   ]
  },
  {
   "cell_type": "markdown",
   "metadata": {},
   "source": [
    "### Comparação de resultados"
   ]
  },
  {
   "cell_type": "code",
   "execution_count": 11,
   "metadata": {},
   "outputs": [
    {
     "data": {
      "image/png": "[encoded data removed]",
      "text/plain": [
       "<Figure size 432x288 with 1 Axes>"
      ]
     },
     "metadata": {
      "needs_background": "light"
     },
     "output_type": "display_data"
    }
   ],
   "source": [
    "ind = np.arange(len(t1)) \n",
    "width = 0.35\n",
    "plt.bar(ind-width/2, t1, width, label='NATURAL JOIN')\n",
    "plt.bar(ind+width/2, t2, width, label='prod cart. + WHERE')\n",
    "plt.ylabel('Tempo (s)')\n",
    "plt.title('Comparação de eficiência NATURAL JOIN X prod cart. + WHERE')\n",
    "plt.xticks(ind, ('C5', 'C6'))\n",
    "plt.legend()\n",
    "plt.show()"
   ]
  },
  {
   "cell_type": "markdown",
   "metadata": {},
   "source": [
    "### Conclusão análise 2\n",
    "/todo"
   ]
  },
  {
   "cell_type": "markdown",
   "metadata": {},
   "source": [
    "## Avaliação 3 - JOIN ON X produto cartesiano + condição WHERE\n",
    "Serão utilizadas as consultas 3 e 10 para essa avaliação."
   ]
  },
  {
   "cell_type": "code",
   "execution_count": 12,
   "metadata": {},
   "outputs": [],
   "source": [
    "t1.clear()\n",
    "t2.clear()"
   ]
  },
  {
   "cell_type": "markdown",
   "metadata": {},
   "source": [
    "#### Consulta 3"
   ]
  },
  {
   "cell_type": "code",
   "execution_count": 13,
   "metadata": {},
   "outputs": [],
   "source": [
    "email = 'helena@gmail.com'\n",
    "\n",
    "# Forma 1, usando JOIN ON\n",
    "consulta = (\"SELECT Grupo_de_pelada.nome, Grupo_de_pelada.descricao \" +\n",
    "                         \"FROM Pessoa JOIN Grupo_de_Pelada ON Pessoa.id_pessoa = Grupo_de_Pelada.id_adm \" +\n",
    "                         \"WHERE Pessoa.email = '\" + email + \"';\")\n",
    "\n",
    "t1.append(executaComandosSQL(consulta, conn))\n",
    "\n",
    "# Forma 2, usando produto cartesiano + condição WHERE\n",
    "consulta = (\"SELECT Grupo_de_pelada.nome, Grupo_de_pelada.descricao \" \n",
    "             \"FROM Pessoa, Grupo_de_Pelada \" \n",
    "             \"WHERE Pessoa.email = '\" + email + \"' AND \"\n",
    "                   \"Pessoa.id_pessoa = Grupo_de_Pelada.id_adm ;\")\n",
    "\n",
    "t2.append(executaComandosSQL(consulta, conn))"
   ]
  },
  {
   "cell_type": "markdown",
   "metadata": {},
   "source": [
    "#### Consulta 10"
   ]
  },
  {
   "cell_type": "code",
   "execution_count": 14,
   "metadata": {},
   "outputs": [],
   "source": [
    "# Forma 1, usando JOIN ON\n",
    "consulta = (\"SELECT motivo, prazo, sum(valor_pago) as total_pago, valor_total \" \n",
    "             \"FROM (Vaquinha JOIN Vaquinha_Coletiva ON Vaquinha.id_vaquinha =  Vaquinha_Coletiva.id_vaquinha_coletiva) \"\n",
    "                 \"JOIN Vaquinha_Coletiva_Pessoa ON  Vaquinha_Coletiva.id_vaquinha_coletiva = Vaquinha_Coletiva_Pessoa.id_vaquinha_coletiva \"\n",
    "              \"GROUP BY Vaquinha_Coletiva.id_vaquinha_coletiva;\")\n",
    "\n",
    "t1.append(executaComandosSQL(consulta, conn))\n",
    "\n",
    "# Forma 2, usando produto cartesiano + condição WHERE\n",
    "consulta = (\"SELECT motivo, prazo, sum(valor_pago) as total_pago, valor_total \" \n",
    "             \"FROM Vaquinha, Vaquinha_Coletiva , Vaquinha_Coletiva_Pessoa \"\n",
    "             \"WHERE Vaquinha.id_vaquinha =  Vaquinha_Coletiva.id_vaquinha_coletiva AND \"\n",
    "                   \"Vaquinha_Coletiva.id_vaquinha_coletiva = Vaquinha_Coletiva_Pessoa.id_vaquinha_coletiva \"\n",
    "              \"GROUP BY Vaquinha_Coletiva.id_vaquinha_coletiva;\")\n",
    "\n",
    "\n",
    "t2.append(executaComandosSQL(consulta, conn))\n"
   ]
  },
  {
   "cell_type": "markdown",
   "metadata": {},
   "source": [
    "### Comparação de resultados"
   ]
  },
  {
   "cell_type": "code",
   "execution_count": 15,
   "metadata": {},
   "outputs": [
    {
     "data": {
      "image/png": "[encoded data removed]",
      "text/plain": [
       "<Figure size 432x288 with 1 Axes>"
      ]
     },
     "metadata": {
      "needs_background": "light"
     },
     "output_type": "display_data"
    }
   ],
   "source": [
    "ind = np.arange(len(t1)) \n",
    "width = 0.35\n",
    "plt.bar(ind-width/2, t1, width, label='JOIN ON')\n",
    "plt.bar(ind+width/2, t2, width, label='prod cart. + WHERE')\n",
    "plt.ylabel('Tempo (s)')\n",
    "plt.title('Comparação de eficiência JOIN ON X prod cart. + WHERE')\n",
    "plt.xticks(ind, ('C3', 'C10'))\n",
    "plt.legend()\n",
    "plt.show()"
   ]
  },
  {
   "cell_type": "markdown",
   "metadata": {},
   "source": [
    "### Conclusão análise 3\n",
    "/todo"
   ]
  },
  {
   "cell_type": "markdown",
   "metadata": {},
   "source": [
    "## Avaliação 4 - FROM A JOIN B WHERE B =... X FROM A JOIN (SELECT * FROM B WHERE B =...)\n",
    "Serão utilizadas as consultas 7 e 8 para essa avaliação."
   ]
  },
  {
   "cell_type": "code",
   "execution_count": 16,
   "metadata": {},
   "outputs": [],
   "source": [
    "t1.clear()\n",
    "t2.clear()"
   ]
  },
  {
   "cell_type": "markdown",
   "metadata": {},
   "source": [
    "#### Consulta 7"
   ]
  },
  {
   "cell_type": "code",
   "execution_count": 17,
   "metadata": {},
   "outputs": [],
   "source": [
    "email = 'manuela@gmail.com'\n",
    "\n",
    "# Forma 1, usando FROM A JOIN B WHERE B =...\n",
    "consulta = (\"SELECT Grupo_de_pelada.nome, Pelada.lugar, Pelada.preco, Pelada.inicio, Pontos, Nota, G, GC \"\n",
    "             \"FROM Pessoa NATURAL JOIN Jogador NATURAL JOIN Pelada NATURAL JOIN Grupo_de_pelada \"\n",
    "             \"WHERE Pessoa.email = '\" + email + \"' \"\n",
    "             \"ORDER BY inicio desc;\")\n",
    "\n",
    "t1.append(executaComandosSQL(consulta, conn))\n",
    "\n",
    "# Forma 2, usando FROM A JOIN (SELECT B FROM WHERE B =...)\n",
    "consulta = (\"SELECT Grupo_de_pelada.nome, Pelada.lugar, Pelada.preco, Pelada.inicio, Pontos, Nota, G, GC \" \n",
    "             \"FROM Jogador NATURAL JOIN Pelada NATURAL JOIN Grupo_de_pelada NATURAL JOIN (SELECT * FROM Pessoa \" \n",
    "             \"WHERE Pessoa.email = '\" + email + \"') \"\n",
    "             \"ORDER BY inicio desc;\")\n",
    "\n",
    "t2.append(executaComandosSQL(consulta, conn))"
   ]
  },
  {
   "cell_type": "markdown",
   "metadata": {},
   "source": [
    "#### Consulta 8"
   ]
  },
  {
   "cell_type": "code",
   "execution_count": 18,
   "metadata": {},
   "outputs": [],
   "source": [
    "id_vaquinha_individual = 1\n",
    "\n",
    "# Forma 1, usando FROM A JOIN B WHERE B =...\n",
    "consulta = (\"SELECT nome_pessoa, pergunta_personalizada, valor, resposta \" \n",
    "             \"FROM Pessoa NATURAL JOIN Vaquinha_Individual_Pessoa NATURAL JOIN Vaquinha_Individual \" \n",
    "             \"WHERE id_vaquinha_individual = \" + str(id_vaquinha_individual) + \" \" \n",
    "             \"ORDER BY nome_pessoa;\")\n",
    "\n",
    "t1.append(executaComandosSQL(consulta, conn))\n",
    "\n",
    "# Forma 2, usando FROM A JOIN (SELECT B FROM WHERE B =...)\n",
    "consulta = (\"SELECT nome_pessoa, pergunta_personalizada, valor, resposta \" \n",
    "             \"FROM Pessoa NATURAL JOIN Vaquinha_Individual_Pessoa NATURAL JOIN (SELECT * FROM Vaquinha_Individual \" \n",
    "             \"WHERE id_vaquinha_individual = \" + str(id_vaquinha_individual) + \") \" \n",
    "             \"ORDER BY nome_pessoa;\")\n",
    "\n",
    "t2.append(executaComandosSQL(consulta, conn))"
   ]
  },
  {
   "cell_type": "markdown",
   "metadata": {},
   "source": [
    "### Comparação de resultados"
   ]
  },
  {
   "cell_type": "code",
   "execution_count": 19,
   "metadata": {},
   "outputs": [
    {
     "data": {
      "image/png": "[encoded data removed]",
      "text/plain": [
       "<Figure size 432x288 with 1 Axes>"
      ]
     },
     "metadata": {
      "needs_background": "light"
     },
     "output_type": "display_data"
    }
   ],
   "source": [
    "ind = np.arange(len(t1)) \n",
    "width = 0.35\n",
    "plt.bar(ind-width/2, t1, width, label='FROM A JOIN B WHERE B =...')\n",
    "plt.bar(ind+width/2, t2, width, label='FROM A JOIN (SELECT B FROM WHERE B =...)')\n",
    "plt.ylabel('Tempo (s)')\n",
    "plt.title('Comparação de eficiência FROM A JOIN B WHERE B =... X FROM A JOIN (SELECT B FROM WHERE B =...)')\n",
    "plt.xticks(ind, ('C7', 'C8'))\n",
    "plt.legend()\n",
    "plt.show()"
   ]
  },
  {
   "cell_type": "markdown",
   "metadata": {},
   "source": [
    "### Conclusão análise 4\n",
    "/todo"
   ]
  },
  {
   "cell_type": "markdown",
   "metadata": {},
   "source": [
    "## Avaliação 5 - LIMIT(1) x MAX()\n",
    "Será utilizada a consulta 9 para essa avaliação."
   ]
  },
  {
   "cell_type": "code",
   "execution_count": 20,
   "metadata": {},
   "outputs": [],
   "source": [
    "t1.clear()\n",
    "t2.clear()"
   ]
  },
  {
   "cell_type": "markdown",
   "metadata": {},
   "source": [
    "#### Consulta 9"
   ]
  },
  {
   "cell_type": "code",
   "execution_count": 21,
   "metadata": {},
   "outputs": [],
   "source": [
    "email = 'beatriz@gmail.com'\n",
    "\n",
    "# Forma 1, usando LIMIT(1)\n",
    "consulta = (\"SELECT Grupo_de_Pelada.nome, lugar, inicio, sum(G) as Gols_na_partida  \"\n",
    "             \"FROM Jogador NATURAL JOIN Pelada NATURAL JOIN Grupo_de_Pelada \" \n",
    "             \"WHERE id_pelada in (SELECT id_pelada FROM Jogador NATURAL JOIN Pessoa WHERE email = '\" + email + \"') \" \n",
    "             \"GROUP BY id_pelada \" \n",
    "             \"ORDER BY Gols_na_partida desc limit(1);\")\n",
    "\n",
    "t1.append(executaComandosSQL(consulta, conn))\n",
    "\n",
    "# Forma 2, usando MAX()\n",
    "\n",
    "consulta = (\"SELECT  nome, lugar, inicio, MAX(Gols_na_partida) FROM (\"\n",
    "            \"SELECT Grupo_de_Pelada.nome, lugar, inicio, sum(G) as Gols_na_partida  \"\n",
    "             \"FROM Jogador NATURAL JOIN Pelada NATURAL JOIN Grupo_de_Pelada \" \n",
    "             \"WHERE id_pelada in (SELECT id_pelada FROM Jogador NATURAL JOIN Pessoa WHERE email = '\" + email + \"') \" \n",
    "             \"GROUP BY id_pelada);\")\n",
    "\n",
    "t2.append(executaComandosSQL(consulta, conn))"
   ]
  },
  {
   "cell_type": "markdown",
   "metadata": {},
   "source": [
    "### Comparação de resultados"
   ]
  },
  {
   "cell_type": "code",
   "execution_count": 22,
   "metadata": {},
   "outputs": [
    {
     "data": {
      "image/png": "[encoded data removed]",
      "text/plain": [
       "<Figure size 432x288 with 1 Axes>"
      ]
     },
     "metadata": {
      "needs_background": "light"
     },
     "output_type": "display_data"
    }
   ],
   "source": [
    "ind = np.arange(len(t1)) \n",
    "width = 0.35\n",
    "plt.bar(ind-width/2, t1, width, label='LIMIT(1)')\n",
    "plt.bar(ind+width/2, t2, width, label='MAX()')\n",
    "plt.ylabel('Tempo (s)')\n",
    "plt.title('Comparação de eficiência LIMIT(1) X MAX()')\n",
    "plt.xticks(ind, ('C9'))\n",
    "plt.legend()\n",
    "plt.show()"
   ]
  },
  {
   "cell_type": "markdown",
   "metadata": {},
   "source": [
    "### Conclusão análise 4\n",
    "/todo"
   ]
  },
  {
   "cell_type": "code",
   "execution_count": null,
   "metadata": {},
   "outputs": [],
   "source": []
  }
 ],
 "metadata": {
  "kernelspec": {
   "display_name": "Python 3",
   "language": "python",
   "name": "python3"
  },
  "language_info": {
   "codemirror_mode": {
    "name": "ipython",
    "version": 3
   },
   "file_extension": ".py",
   "mimetype": "text/x-python",
   "name": "python",
   "nbconvert_exporter": "python",
   "pygments_lexer": "ipython3",
   "version": "3.6.7"
  }
 },
 "nbformat": 4,
 "nbformat_minor": 2
}
